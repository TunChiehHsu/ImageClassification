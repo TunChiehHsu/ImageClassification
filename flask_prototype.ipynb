{
 "cells": [
  {
   "cell_type": "code",
   "execution_count": 1,
   "metadata": {},
   "outputs": [
    {
     "name": "stderr",
     "output_type": "stream",
     "text": [
      "/usr/local/Cellar/python/3.6.5_1/Frameworks/Python.framework/Versions/3.6/lib/python3.6/importlib/_bootstrap.py:219: RuntimeWarning: compiletime version 3.5 of module 'tensorflow.python.framework.fast_tensor_util' does not match runtime version 3.6\n",
      "  return f(*args, **kwds)\n"
     ]
    }
   ],
   "source": [
    "import flask\n",
    "import tensorflow as tf\n",
    "import cv2\n",
    "import numpy as np\n",
    "import skimage\n",
    "import os\n",
    "from skimage import io\n",
    "import matplotlib.pyplot as plt\n",
    "import random\n",
    "from flask import Flask\n"
   ]
  },
  {
   "cell_type": "code",
   "execution_count": 2,
   "metadata": {},
   "outputs": [],
   "source": [
    "def predict():\n",
    "    #file_name = flask.request.args['/Users/tunchiehhsu/Desktop/googliser/googliser/smashed_boxes/google-image(0007).jpeg']\n",
    "    file_name = io.imread('/Users/tunchiehhsu/Desktop/googliser/googliser/smashed_boxes/google-image(0007).jpeg',as_gray = True)\n",
    "    reshape_img = cv2.resize(file_name, dsize=(256, 256), interpolation=cv2.INTER_CUBIC)\n",
    "    input_img = reshape_img.flatten()\n",
    "    raw = input_img\n",
    "    #raw = sess.run(model,feed_dict={x:input_img})\n",
    "    return sendResponse({nameOfTheCharacter: raw})"
   ]
  },
  {
   "cell_type": "code",
   "execution_count": 3,
   "metadata": {},
   "outputs": [],
   "source": [
    "def init():\n",
    "    global x,predict_tensor,data,sess\n",
    "    tf.reset_default_graph() # why?\n",
    "    initt = tf.global_variables_initializer()\n",
    "    sess = tf.Session()\n",
    "    sess.run(initt)\n",
    "\n",
    "    new_saver = tf.train.import_meta_graph('./checkpoint_dir/MyModel.meta')\n",
    "    new_saver.restore(sess, tf.train.latest_checkpoint('./checkpoint_dir'))\n",
    "\n",
    "    graph = tf.get_default_graph()\n",
    "    x = graph.get_operation_by_name('xs').outputs[0]\n",
    "    predict_tensor = tf.get_collection(\"pred_network\")[0]\n",
    "\n",
    "    ### read data\n",
    "    filepaths = []\n",
    "    folder = \"/Users/tunchiehhsu/Desktop/googliser/googliser/damaged_packages\"\n",
    "    for file in os.listdir(folder):\n",
    "            if file != \".DS_Store\":\n",
    "                filepath = os.path.join(folder, file)\n",
    "                filepaths.append(filepath)\n",
    "    data = []\n",
    "    for path in filepaths:\n",
    "        # gray scale\n",
    "        img = io.imread(path,as_gray = True)\n",
    "        # reshape to uniform size\n",
    "        reshape_img = cv2.resize(img, dsize=(256, 256), interpolation=cv2.INTER_CUBIC)\n",
    "        data.append(reshape_img.flatten())\n",
    "\n",
    "    data = np.array(data)"
   ]
  },
  {
   "cell_type": "code",
   "execution_count": null,
   "metadata": {},
   "outputs": [
    {
     "name": "stdout",
     "output_type": "stream",
     "text": [
      "INFO:tensorflow:Restoring parameters from ./checkpoint_dir/MyModel\n"
     ]
    },
    {
     "name": "stderr",
     "output_type": "stream",
     "text": [
      " * Running on http://localhost:9000/ (Press CTRL+C to quit)\n",
      "127.0.0.1 - - [15/Sep/2018 00:19:26] \"\u001b[37mGET / HTTP/1.1\u001b[0m\" 200 -\n"
     ]
    }
   ],
   "source": [
    "app = Flask(__name__)\n",
    "# Cross origin support\n",
    "def sendResponse(responseObj):\n",
    "    response = flask.jsonify(responseObj)\n",
    "    response.headers.add('Access-Control-Allow-Origin', '*')\n",
    "    response.headers.add('Access-Control-Allow-Methods', 'GET')\n",
    "    response.headers.add('Access-Control-Allow-Headers', 'accept,content-type,Origin,X-Requested-With,Content-Type,access_token,Accept,Authorization,source')\n",
    "    response.headers.add('Access-Control-Allow-Credentials', True)\n",
    "    return response\n",
    "\n",
    "@app.route('/')\n",
    "def classify():\n",
    "    results = sess.run(predict_tensor,{x: data})\n",
    "    \n",
    "    return sendResponse({'prediction': results.tolist()})\n",
    "\n",
    "\n",
    "if __name__ == '__main__':\n",
    "    init()\n",
    "    from werkzeug.serving import run_simple\n",
    "    run_simple('localhost', 9000, app)"
   ]
  },
  {
   "cell_type": "code",
   "execution_count": null,
   "metadata": {},
   "outputs": [],
   "source": []
  }
 ],
 "metadata": {
  "kernelspec": {
   "display_name": "Python 3",
   "language": "python",
   "name": "python3"
  },
  "language_info": {
   "codemirror_mode": {
    "name": "ipython",
    "version": 3
   },
   "file_extension": ".py",
   "mimetype": "text/x-python",
   "name": "python",
   "nbconvert_exporter": "python",
   "pygments_lexer": "ipython3",
   "version": "3.6.5"
  }
 },
 "nbformat": 4,
 "nbformat_minor": 2
}
